{
 "cells": [
  {
   "cell_type": "markdown",
   "id": "d2f596df-3170-477c-86d0-142aafa9178d",
   "metadata": {
    "tags": []
   },
   "source": [
    "# __premod__ pipeline\n",
    "\n",
    "# Main script file\n",
    "\n",
    "| Step | Description | Scripts | Script status | Subsequent manual interventions |\n",
    "|:------:|:------:|:-----:|:-----:|:------:|\n",
    "| 4 | Linguistic analysis of the text, using HT_CRISCO, a parser developped at the CRISCO lab (Caen, UR 4255). | Function 4:<br/>__`transc_to_ht()`__ | ✅ | Classification of the yet unknown key-words identified by the program.|\n",
    "| 5 |According to the previous classification, the tables are made and exported. | Function 5:<br/>__`kw_to_table()`__ | ✍<br/>Initiated. | None:<br/>All is done. |\n",
    "\n",
    "## Declare what files you are working with\n",
    "\n",
    "* `project` ⟶ The path to your project folder. It should be modelled after the `project_folder_template` in `input`.\n",
    "> Note: The first time you execute the script, the classification folder should be empty. This script is meant to prepare the structuration of RDF data. After the function `ht_to_info.kw_test()` is executed the first time, you will get all the keywords identified in the documents. You may then classify them according to your project focus. More on that when we get there.\n",
    "\n",
    "```shell\n",
    "📂 project folder\n",
    "    ↳ 📄 \"iiif_manifests.txt\" (You should not need this,\n",
    "                        as you already have XML/TEI files.)\n",
    "    ↳ 📂 \"classification\" folder\n",
    "        ↳ 📄 \"ignore.csv\" (Where you will enter the keywords\n",
    "                        found by the script which are\n",
    "                        useless to your project.)\n",
    "    ↳ 📂 \"xml_input\" folder\n",
    "        ↳ 📄 one TEI file\n",
    "        ↳ 📄 another TEI file\n",
    "        ↳ 📄 as many as you like\n",
    "```"
   ]
  },
  {
   "cell_type": "code",
   "execution_count": 1,
   "id": "618da739-2689-4f32-9361-7582dd752e89",
   "metadata": {
    "tags": []
   },
   "outputs": [
    {
     "ename": "IndentationError",
     "evalue": "expected an indented block after 'if' statement on line 114 (D2_tei_2_ht.py, line 119)",
     "output_type": "error",
     "traceback": [
      "Traceback \u001b[0;36m(most recent call last)\u001b[0m:\n",
      "\u001b[0m  File \u001b[1;32m~/anaconda3/lib/python3.11/site-packages/IPython/core/interactiveshell.py:3526\u001b[0m in \u001b[1;35mrun_code\u001b[0m\n    exec(code_obj, self.user_global_ns, self.user_ns)\u001b[0m\n",
      "\u001b[0;36m  Cell \u001b[0;32mIn[1], line 2\u001b[0;36m\n\u001b[0;31m    from utils import D2_tei_2_ht as vht\u001b[0;36m\n",
      "\u001b[0;36m  File \u001b[0;32m~/ownCloud/ARHN-LARHRA/iolkats/utils/D2_tei_2_ht.py:119\u001b[0;36m\u001b[0m\n\u001b[0;31m    else:\u001b[0m\n\u001b[0m    ^\u001b[0m\n\u001b[0;31mIndentationError\u001b[0m\u001b[0;31m:\u001b[0m expected an indented block after 'if' statement on line 114\n"
     ]
    }
   ],
   "source": [
    "import os\n",
    "from utils import D2_tei_2_ht as vht\n",
    "from utils import D3_ht_2_kw as vkw\n",
    "from utils import A_navigation as nav\n",
    "\n",
    "# If you have already classified some keywords,\n",
    "# you must indicate your project name here.\n",
    "project = \"deputest\"\n",
    "\n",
    "# Please specify the folder containing your language model.\n",
    "lg_model = \"resources/lg_models/UD_French-Sequoia-flaubert\"\n",
    "\n",
    "# In case you have other references, you may put them in the resources directory\n",
    "# and specify the path here.\n",
    "presto = \"resources/dico_PRESTO_SIMPLE_05.05.23.dff\"\n",
    "corrtable = \"resources/MICLE_CorrTable_27-02-23.csv\""
   ]
  },
  {
   "cell_type": "markdown",
   "id": "1c3b29e1-4a9c-4a8d-802f-d5aed7722f1f",
   "metadata": {},
   "source": [
    "# To execute step n°4\n",
    "\n",
    "* __Note__: I have separated these two steps so one may change tokenization manually if needed. For instance, in case of numbered paragraphs, the numbers are not, per say, part of the sentence. Therefore, one may result to regular expressions to remove them from `<tei:s>` elements, so they cannot influence the syntactic analysis. However, if you have no such concerns with your corpus, you may execute the second as soon as the first is done.\n",
    "* If you need to modify the tokens, this must be done in the `*/working_data/recap/*_tokenized_tei.xml` file."
   ]
  },
  {
   "cell_type": "code",
   "execution_count": null,
   "id": "a8c6b929-f07e-4b44-af4a-eccb45a96a4e",
   "metadata": {
    "tags": []
   },
   "outputs": [],
   "source": [
    "# Make the output folder with a timestamp.\n",
    "dir_date = nav.mk_tmsp_dir(os.getcwd(), project = project)\n",
    "\n",
    "presto = vht.make_d_PRESTO(\"resources/dico_PRESTO_SIMPLE_05.05.23.dff\")\n",
    "corrtable = vht.make_d_CorrTable(\"resources/MICLE_CorrTable_27-02-23.csv\")\n",
    "\n",
    "# REMETTRE CORRLANGUAGE SI NÉCESSAIRE\n",
    "# (Désactivé pour l'instant dans le .py.)\n",
    "# arg :  corrlanguage=\"fr\"\n",
    "vht.call_rzianes_ht_crisco(\n",
    "    tokenized = False,\n",
    "    dir_date = project,\n",
    "    lg_model,\n",
    "    presto,\n",
    "    corrtable\n",
    ")"
   ]
  },
  {
   "cell_type": "code",
   "execution_count": null,
   "id": "32543d5b-8341-4d57-869c-0627a94987a8",
   "metadata": {
    "scrolled": true,
    "tags": []
   },
   "outputs": [],
   "source": [
    "vkw.kw_test(dir_date, dir_date)"
   ]
  },
  {
   "cell_type": "markdown",
   "id": "9d3ea63d-654f-4b72-8731-35b560131ff7",
   "metadata": {},
   "source": [
    "# To execute step n°4"
   ]
  },
  {
   "cell_type": "code",
   "execution_count": null,
   "id": "20cc57d1-f2e1-477e-98b1-989861e81143",
   "metadata": {
    "tags": []
   },
   "outputs": [],
   "source": [
    "vkw.kw_to_table(dir_date, projet)"
   ]
  },
  {
   "cell_type": "code",
   "execution_count": null,
   "id": "694ed315-e39b-4c39-84af-dfaec435fa64",
   "metadata": {
    "tags": []
   },
   "outputs": [],
   "source": []
  },
  {
   "cell_type": "markdown",
   "id": "17d29635-468b-4e46-9a8d-0a934aeda3f0",
   "metadata": {},
   "source": [
    "http://schema.org/description\n",
    "http://schema.org/version\n",
    "http://wikiba.se/ontology#identifiers\n",
    "http://wikiba.se/ontology#sitelinks\n",
    "http://wikiba.se/ontology#statements\n",
    "http://www.w3.org/2000/01/rdf-schema#label\n",
    "http://www.w3.org/2004/02/skos/core#altLabel\n",
    "http://www.wikidata.org/prop/direct-normalized/P1014\n",
    "http://www.wikidata.org/prop/direct-normalized/P227\n",
    "http://www.wikidata.org/prop/direct-normalized/P2347\n",
    "http://www.wikidata.org/prop/direct-normalized/P244\n",
    "http://www.wikidata.org/prop/direct-normalized/P2671\n",
    "http://www.wikidata.org/prop/direct/P1014\n",
    "http://www.wikidata.org/prop/direct/P10913\n",
    "http://www.wikidata.org/prop/direct/P12385\n",
    "http://www.wikidata.org/prop/direct/P12596\n",
    "http://www.wikidata.org/prop/direct/P1343\n",
    "http://www.wikidata.org/prop/direct/P1382\n",
    "http://www.wikidata.org/prop/direct/P18\n",
    "http://www.wikidata.org/prop/direct/P227\n",
    "http://www.wikidata.org/prop/direct/P2347\n",
    "http://www.wikidata.org/prop/direct/P2354\n",
    "http://www.wikidata.org/prop/direct/P244\n",
    "http://www.wikidata.org/prop/direct/P2521\n",
    "http://www.wikidata.org/prop/direct/P2671\n",
    "http://www.wikidata.org/prop/direct/P279\n",
    "http://www.wikidata.org/prop/direct/P31\n",
    "http://www.wikidata.org/prop/direct/P3321\n",
    "http://www.wikidata.org/prop/direct/P373\n",
    "http://www.wikidata.org/prop/direct/P425\n",
    "http://www.wikidata.org/prop/direct/P4342\n",
    "http://www.wikidata.org/prop/direct/P4801\n",
    "http://www.wikidata.org/prop/direct/P691\n",
    "http://www.wikidata.org/prop/direct/P8189\n",
    "http://www.wikidata.org/prop/direct/P8313\n",
    "http://www.wikidata.org/prop/direct/P8458\n",
    "http://www.wikidata.org/prop/direct/P8629\n",
    "http://www.wikidata.org/prop/direct/P8814\n",
    "http://www.wikidata.org/prop/direct/P910\n",
    "http://www.wikidata.org/prop/direct/P919\n",
    "http://www.wikidata.org/prop/direct/P9223\n",
    "http://www.wikidata.org/prop/direct/P9495\n",
    "Les mêmes mais sans /direct/ :\n",
    "http://www.wikidata.org/prop/P1024 etc\n"
   ]
  },
  {
   "cell_type": "code",
   "execution_count": null,
   "id": "deb397bb-285d-402d-a10f-1c6dcb007369",
   "metadata": {},
   "outputs": [],
   "source": []
  }
 ],
 "metadata": {
  "kernelspec": {
   "display_name": "Python 3 (ipykernel)",
   "language": "python",
   "name": "python3"
  },
  "language_info": {
   "codemirror_mode": {
    "name": "ipython",
    "version": 3
   },
   "file_extension": ".py",
   "mimetype": "text/x-python",
   "name": "python",
   "nbconvert_exporter": "python",
   "pygments_lexer": "ipython3",
   "version": "3.11.5"
  }
 },
 "nbformat": 4,
 "nbformat_minor": 5
}
